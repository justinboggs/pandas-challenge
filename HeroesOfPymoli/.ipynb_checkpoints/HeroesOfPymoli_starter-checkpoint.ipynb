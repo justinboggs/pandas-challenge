{
 "cells": [
  {
   "cell_type": "code",
   "execution_count": 94,
   "metadata": {},
   "outputs": [],
   "source": [
    "# Dependencies and Setup\n",
    "import pandas as pd\n",
    "import numpy as np\n",
    "\n",
    "# File to Load (Remember to Change These)\n",
    "file_to_load = \"Resources/purchase_data.csv\"\n",
    "\n",
    "# Read Purchasing File and store into Pandas data frame\n",
    "purchase_data = pd.read_csv(file_to_load)"
   ]
  },
  {
   "cell_type": "code",
   "execution_count": 95,
   "metadata": {},
   "outputs": [],
   "source": [
    "#total number of unique SN's to find total players\n",
    "unique_players = purchase_data[\"SN\"].nunique()\n",
    "#total number of unique items\n",
    "unique_items = purchase_data[\"Item ID\"].nunique()\n",
    "#number of purchases\n",
    "total_purchases = purchase_data[\"Purchase ID\"].count()\n",
    "#average price\n",
    "average_price = purchase_data[\"Price\"].mean()\n",
    "#total revenue\n",
    "total_revenue = purchase_data[\"Price\"].sum()"
   ]
  },
  {
   "cell_type": "code",
   "execution_count": 96,
   "metadata": {},
   "outputs": [
    {
     "data": {
      "text/html": [
       "<div>\n",
       "<style scoped>\n",
       "    .dataframe tbody tr th:only-of-type {\n",
       "        vertical-align: middle;\n",
       "    }\n",
       "\n",
       "    .dataframe tbody tr th {\n",
       "        vertical-align: top;\n",
       "    }\n",
       "\n",
       "    .dataframe thead th {\n",
       "        text-align: right;\n",
       "    }\n",
       "</style>\n",
       "<table border=\"1\" class=\"dataframe\">\n",
       "  <thead>\n",
       "    <tr style=\"text-align: right;\">\n",
       "      <th></th>\n",
       "      <th>Total Players</th>\n",
       "    </tr>\n",
       "  </thead>\n",
       "  <tbody>\n",
       "    <tr>\n",
       "      <td>0</td>\n",
       "      <td>576</td>\n",
       "    </tr>\n",
       "  </tbody>\n",
       "</table>\n",
       "</div>"
      ],
      "text/plain": [
       "   Total Players\n",
       "0            576"
      ]
     },
     "execution_count": 96,
     "metadata": {},
     "output_type": "execute_result"
    }
   ],
   "source": [
    "#unique players df\n",
    "player_count = pd.DataFrame({\"Total Players\": [unique_players]})\n",
    "player_count"
   ]
  },
  {
   "cell_type": "code",
   "execution_count": 130,
   "metadata": {},
   "outputs": [
    {
     "data": {
      "text/html": [
       "<style  type=\"text/css\" >\n",
       "</style><table id=\"T_197994a4_3184_11ea_8ca2_a434d91236f2\" ><thead>    <tr>        <th class=\"blank level0\" ></th>        <th class=\"col_heading level0 col0\" >Number Of Unique Items</th>        <th class=\"col_heading level0 col1\" >Average Price</th>        <th class=\"col_heading level0 col2\" >Number of Purchases</th>        <th class=\"col_heading level0 col3\" >Total Revenue</th>    </tr></thead><tbody>\n",
       "                <tr>\n",
       "                        <th id=\"T_197994a4_3184_11ea_8ca2_a434d91236f2level0_row0\" class=\"row_heading level0 row0\" >0</th>\n",
       "                        <td id=\"T_197994a4_3184_11ea_8ca2_a434d91236f2row0_col0\" class=\"data row0 col0\" >183</td>\n",
       "                        <td id=\"T_197994a4_3184_11ea_8ca2_a434d91236f2row0_col1\" class=\"data row0 col1\" >$3.05</td>\n",
       "                        <td id=\"T_197994a4_3184_11ea_8ca2_a434d91236f2row0_col2\" class=\"data row0 col2\" >780</td>\n",
       "                        <td id=\"T_197994a4_3184_11ea_8ca2_a434d91236f2row0_col3\" class=\"data row0 col3\" >$2,379.77</td>\n",
       "            </tr>\n",
       "    </tbody></table>"
      ],
      "text/plain": [
       "<pandas.io.formats.style.Styler at 0x18ed050cbc8>"
      ]
     },
     "execution_count": 130,
     "metadata": {},
     "output_type": "execute_result"
    }
   ],
   "source": [
    "#purchasing analysis df\n",
    "purchasing_analysis_total = pd.DataFrame({\"Number Of Unique Items\": [unique_items], \"Average Price\": [average_price], \"Number of Purchases\": [total_purchases], \"Total Revenue\": [total_revenue]})\n",
    "#format prices\n",
    "purchasing_analysis_total.style.format({\"Average Price\": \"${:,.2f}\", \"Total Revenue\": \"${:,.2f}\"})"
   ]
  },
  {
   "cell_type": "code",
   "execution_count": 98,
   "metadata": {},
   "outputs": [],
   "source": [
    "#total number of males\n",
    "males_only = purchase_data.loc[purchase_data[\"Gender\"] == \"Male\"]\n",
    "#total number of females\n",
    "females_only = purchase_data.loc[purchase_data[\"Gender\"] == \"Female\"]\n",
    "#total number of other\n",
    "other_only = purchase_data.loc[purchase_data[\"Gender\"] == \"Other / Non-Disclosed\"]\n",
    "#total number of unique males\n",
    "unique_males = males_only[\"SN\"].nunique()\n",
    "#total number of unique females\n",
    "unique_females= females_only[\"SN\"].nunique()\n",
    "#total number of unique other\n",
    "unique_other= other_only[\"SN\"].nunique()\n",
    "#unique male percentage\n",
    "male_percent = unique_males / unique_players * 100\n",
    "#unique female percentage\n",
    "female_percent = unique_females / unique_players * 100\n",
    "#unique other percentage\n",
    "other_percent = unique_other / unique_players * 100"
   ]
  },
  {
   "cell_type": "code",
   "execution_count": 127,
   "metadata": {},
   "outputs": [
    {
     "data": {
      "text/html": [
       "<style  type=\"text/css\" >\n",
       "</style><table id=\"T_c6c1c0e8_3183_11ea_9b96_a434d91236f2\" ><thead>    <tr>        <th class=\"blank level0\" ></th>        <th class=\"col_heading level0 col0\" ></th>        <th class=\"col_heading level0 col1\" >Total Count</th>        <th class=\"col_heading level0 col2\" >Percentage of Players</th>    </tr></thead><tbody>\n",
       "                <tr>\n",
       "                        <th id=\"T_c6c1c0e8_3183_11ea_9b96_a434d91236f2level0_row0\" class=\"row_heading level0 row0\" >0</th>\n",
       "                        <td id=\"T_c6c1c0e8_3183_11ea_9b96_a434d91236f2row0_col0\" class=\"data row0 col0\" >Male</td>\n",
       "                        <td id=\"T_c6c1c0e8_3183_11ea_9b96_a434d91236f2row0_col1\" class=\"data row0 col1\" >484</td>\n",
       "                        <td id=\"T_c6c1c0e8_3183_11ea_9b96_a434d91236f2row0_col2\" class=\"data row0 col2\" >84.03%</td>\n",
       "            </tr>\n",
       "            <tr>\n",
       "                        <th id=\"T_c6c1c0e8_3183_11ea_9b96_a434d91236f2level0_row1\" class=\"row_heading level0 row1\" >1</th>\n",
       "                        <td id=\"T_c6c1c0e8_3183_11ea_9b96_a434d91236f2row1_col0\" class=\"data row1 col0\" >Female</td>\n",
       "                        <td id=\"T_c6c1c0e8_3183_11ea_9b96_a434d91236f2row1_col1\" class=\"data row1 col1\" >81</td>\n",
       "                        <td id=\"T_c6c1c0e8_3183_11ea_9b96_a434d91236f2row1_col2\" class=\"data row1 col2\" >14.06%</td>\n",
       "            </tr>\n",
       "            <tr>\n",
       "                        <th id=\"T_c6c1c0e8_3183_11ea_9b96_a434d91236f2level0_row2\" class=\"row_heading level0 row2\" >2</th>\n",
       "                        <td id=\"T_c6c1c0e8_3183_11ea_9b96_a434d91236f2row2_col0\" class=\"data row2 col0\" >Other / Non-Disclosed</td>\n",
       "                        <td id=\"T_c6c1c0e8_3183_11ea_9b96_a434d91236f2row2_col1\" class=\"data row2 col1\" >11</td>\n",
       "                        <td id=\"T_c6c1c0e8_3183_11ea_9b96_a434d91236f2row2_col2\" class=\"data row2 col2\" >1.91%</td>\n",
       "            </tr>\n",
       "    </tbody></table>"
      ],
      "text/plain": [
       "<pandas.io.formats.style.Styler at 0x18ed0451548>"
      ]
     },
     "execution_count": 127,
     "metadata": {},
     "output_type": "execute_result"
    }
   ],
   "source": [
    "#gender demographics df\n",
    "gender_demographics = pd.DataFrame({\"\": [\"Male\", \"Female\", \"Other / Non-Disclosed\"], \"Total Count\": [unique_males, unique_females, unique_other], \"Percentage of Players\": [male_percent, female_percent, other_percent]})\n",
    "#format percentages\n",
    "gender_demographics.style.format({\"Percentage of Players\": \"{:,.2f}%\"})"
   ]
  },
  {
   "cell_type": "code",
   "execution_count": 100,
   "metadata": {},
   "outputs": [],
   "source": [
    "#purchase count by gender\n",
    "female_purchase_count = females_only[\"Purchase ID\"].count()\n",
    "male_purchase_count = males_only[\"Purchase ID\"].count()\n",
    "other_purchase_count = other_only[\"Purchase ID\"].count()\n",
    "#average purchase price by gender\n",
    "female_average_price = females_only[\"Price\"].mean()\n",
    "male_average_price = males_only[\"Price\"].mean()\n",
    "other_average_price = other_only[\"Price\"].mean()\n",
    "#total purchase value by gender\n",
    "female_total_value = females_only[\"Price\"].sum()\n",
    "male_total_value = males_only[\"Price\"].sum()\n",
    "other_total_value = other_only[\"Price\"].sum()\n",
    "#Averge purchase per unique SN by gender\n",
    "female_avg_total = female_total_value / unique_females\n",
    "male_avg_total = male_total_value / unique_males\n",
    "other_avg_total = other_total_value / unique_other"
   ]
  },
  {
   "cell_type": "code",
   "execution_count": 125,
   "metadata": {},
   "outputs": [
    {
     "data": {
      "text/html": [
       "<style  type=\"text/css\" >\n",
       "</style><table id=\"T_a2f0581c_3183_11ea_ae5a_a434d91236f2\" ><thead>    <tr>        <th class=\"blank level0\" ></th>        <th class=\"col_heading level0 col0\" >Gender</th>        <th class=\"col_heading level0 col1\" >Purchase Count</th>        <th class=\"col_heading level0 col2\" >Average Purchase Price</th>        <th class=\"col_heading level0 col3\" >Total Purchase Value</th>        <th class=\"col_heading level0 col4\" >Avg Total Purchase per Person</th>    </tr></thead><tbody>\n",
       "                <tr>\n",
       "                        <th id=\"T_a2f0581c_3183_11ea_ae5a_a434d91236f2level0_row0\" class=\"row_heading level0 row0\" >0</th>\n",
       "                        <td id=\"T_a2f0581c_3183_11ea_ae5a_a434d91236f2row0_col0\" class=\"data row0 col0\" >Female</td>\n",
       "                        <td id=\"T_a2f0581c_3183_11ea_ae5a_a434d91236f2row0_col1\" class=\"data row0 col1\" >113</td>\n",
       "                        <td id=\"T_a2f0581c_3183_11ea_ae5a_a434d91236f2row0_col2\" class=\"data row0 col2\" >$3.20</td>\n",
       "                        <td id=\"T_a2f0581c_3183_11ea_ae5a_a434d91236f2row0_col3\" class=\"data row0 col3\" >$361.94</td>\n",
       "                        <td id=\"T_a2f0581c_3183_11ea_ae5a_a434d91236f2row0_col4\" class=\"data row0 col4\" >$4.47</td>\n",
       "            </tr>\n",
       "            <tr>\n",
       "                        <th id=\"T_a2f0581c_3183_11ea_ae5a_a434d91236f2level0_row1\" class=\"row_heading level0 row1\" >1</th>\n",
       "                        <td id=\"T_a2f0581c_3183_11ea_ae5a_a434d91236f2row1_col0\" class=\"data row1 col0\" >Male</td>\n",
       "                        <td id=\"T_a2f0581c_3183_11ea_ae5a_a434d91236f2row1_col1\" class=\"data row1 col1\" >652</td>\n",
       "                        <td id=\"T_a2f0581c_3183_11ea_ae5a_a434d91236f2row1_col2\" class=\"data row1 col2\" >$3.02</td>\n",
       "                        <td id=\"T_a2f0581c_3183_11ea_ae5a_a434d91236f2row1_col3\" class=\"data row1 col3\" >$1,967.64</td>\n",
       "                        <td id=\"T_a2f0581c_3183_11ea_ae5a_a434d91236f2row1_col4\" class=\"data row1 col4\" >$4.07</td>\n",
       "            </tr>\n",
       "            <tr>\n",
       "                        <th id=\"T_a2f0581c_3183_11ea_ae5a_a434d91236f2level0_row2\" class=\"row_heading level0 row2\" >2</th>\n",
       "                        <td id=\"T_a2f0581c_3183_11ea_ae5a_a434d91236f2row2_col0\" class=\"data row2 col0\" >Other / Non-Disclosed</td>\n",
       "                        <td id=\"T_a2f0581c_3183_11ea_ae5a_a434d91236f2row2_col1\" class=\"data row2 col1\" >15</td>\n",
       "                        <td id=\"T_a2f0581c_3183_11ea_ae5a_a434d91236f2row2_col2\" class=\"data row2 col2\" >$3.35</td>\n",
       "                        <td id=\"T_a2f0581c_3183_11ea_ae5a_a434d91236f2row2_col3\" class=\"data row2 col3\" >$50.19</td>\n",
       "                        <td id=\"T_a2f0581c_3183_11ea_ae5a_a434d91236f2row2_col4\" class=\"data row2 col4\" >$4.56</td>\n",
       "            </tr>\n",
       "    </tbody></table>"
      ],
      "text/plain": [
       "<pandas.io.formats.style.Styler at 0x18ed04f7b88>"
      ]
     },
     "execution_count": 125,
     "metadata": {},
     "output_type": "execute_result"
    }
   ],
   "source": [
    "#gender purchase analysis df\n",
    "gender_purchase_analysis = pd.DataFrame({\"Gender\": [\"Female\", \"Male\", \"Other / Non-Disclosed\"],\n",
    "                                         \"Purchase Count\" : [female_purchase_count, male_purchase_count, other_purchase_count],\n",
    "                                         \"Average Purchase Price\": [female_average_price, male_average_price, other_average_price],\n",
    "                                         \"Total Purchase Value\":[female_total_value, male_total_value, other_total_value],\n",
    "                                         \"Avg Total Purchase per Person\": [female_avg_total, male_avg_total, other_avg_total]})\n",
    "#format prices\n",
    "gender_purchase_analysis.style.format({\"Average Purchase Price\": \"${:,.2f}\",\n",
    "                                 \"Total Purchase Value\": \"${:,.2f}\",\n",
    "                                 \"Avg Total Purchase per Person\": \"${:,.2f}\"})"
   ]
  },
  {
   "cell_type": "code",
   "execution_count": 102,
   "metadata": {},
   "outputs": [],
   "source": [
    "#create bins and labels for age demographics\n",
    "bins = [0, 9, 14, 19, 24, 29, 34, 39, 100]\n",
    "group_labels = [\"<10\", \"10-14\", \"15-19\", \"20-24\", \"25-29\", \"30-34\", \"35-39\", \"40+\"]"
   ]
  },
  {
   "cell_type": "code",
   "execution_count": 103,
   "metadata": {},
   "outputs": [],
   "source": [
    "#slice the data and place it into the purchase_data df\n",
    "purchase_data[\"Age Group\"] = pd.cut(purchase_data[\"Age\"], bins, labels = group_labels)"
   ]
  },
  {
   "cell_type": "code",
   "execution_count": 104,
   "metadata": {},
   "outputs": [],
   "source": [
    "#create table to group Age data into bins\n",
    "age_group = purchase_data.groupby(\"Age Group\")\n",
    "#group data by unique SN's\n",
    "unique_group = age_group[\"SN\"].nunique()\n",
    "#create table containing percentages per unique age group\n",
    "unique_percent = (unique_group / unique_players)*100"
   ]
  },
  {
   "cell_type": "code",
   "execution_count": 132,
   "metadata": {},
   "outputs": [
    {
     "data": {
      "text/html": [
       "<style  type=\"text/css\" >\n",
       "</style><table id=\"T_7278d5f8_3184_11ea_9e40_a434d91236f2\" ><thead>    <tr>        <th class=\"blank level0\" ></th>        <th class=\"col_heading level0 col0\" >Total Count</th>        <th class=\"col_heading level0 col1\" >Percentage of Players</th>    </tr>    <tr>        <th class=\"index_name level0\" >Age Group</th>        <th class=\"blank\" ></th>        <th class=\"blank\" ></th>    </tr></thead><tbody>\n",
       "                <tr>\n",
       "                        <th id=\"T_7278d5f8_3184_11ea_9e40_a434d91236f2level0_row0\" class=\"row_heading level0 row0\" ><10</th>\n",
       "                        <td id=\"T_7278d5f8_3184_11ea_9e40_a434d91236f2row0_col0\" class=\"data row0 col0\" >17</td>\n",
       "                        <td id=\"T_7278d5f8_3184_11ea_9e40_a434d91236f2row0_col1\" class=\"data row0 col1\" >2.95%</td>\n",
       "            </tr>\n",
       "            <tr>\n",
       "                        <th id=\"T_7278d5f8_3184_11ea_9e40_a434d91236f2level0_row1\" class=\"row_heading level0 row1\" >10-14</th>\n",
       "                        <td id=\"T_7278d5f8_3184_11ea_9e40_a434d91236f2row1_col0\" class=\"data row1 col0\" >22</td>\n",
       "                        <td id=\"T_7278d5f8_3184_11ea_9e40_a434d91236f2row1_col1\" class=\"data row1 col1\" >3.82%</td>\n",
       "            </tr>\n",
       "            <tr>\n",
       "                        <th id=\"T_7278d5f8_3184_11ea_9e40_a434d91236f2level0_row2\" class=\"row_heading level0 row2\" >15-19</th>\n",
       "                        <td id=\"T_7278d5f8_3184_11ea_9e40_a434d91236f2row2_col0\" class=\"data row2 col0\" >107</td>\n",
       "                        <td id=\"T_7278d5f8_3184_11ea_9e40_a434d91236f2row2_col1\" class=\"data row2 col1\" >18.58%</td>\n",
       "            </tr>\n",
       "            <tr>\n",
       "                        <th id=\"T_7278d5f8_3184_11ea_9e40_a434d91236f2level0_row3\" class=\"row_heading level0 row3\" >20-24</th>\n",
       "                        <td id=\"T_7278d5f8_3184_11ea_9e40_a434d91236f2row3_col0\" class=\"data row3 col0\" >258</td>\n",
       "                        <td id=\"T_7278d5f8_3184_11ea_9e40_a434d91236f2row3_col1\" class=\"data row3 col1\" >44.79%</td>\n",
       "            </tr>\n",
       "            <tr>\n",
       "                        <th id=\"T_7278d5f8_3184_11ea_9e40_a434d91236f2level0_row4\" class=\"row_heading level0 row4\" >25-29</th>\n",
       "                        <td id=\"T_7278d5f8_3184_11ea_9e40_a434d91236f2row4_col0\" class=\"data row4 col0\" >77</td>\n",
       "                        <td id=\"T_7278d5f8_3184_11ea_9e40_a434d91236f2row4_col1\" class=\"data row4 col1\" >13.37%</td>\n",
       "            </tr>\n",
       "            <tr>\n",
       "                        <th id=\"T_7278d5f8_3184_11ea_9e40_a434d91236f2level0_row5\" class=\"row_heading level0 row5\" >30-34</th>\n",
       "                        <td id=\"T_7278d5f8_3184_11ea_9e40_a434d91236f2row5_col0\" class=\"data row5 col0\" >52</td>\n",
       "                        <td id=\"T_7278d5f8_3184_11ea_9e40_a434d91236f2row5_col1\" class=\"data row5 col1\" >9.03%</td>\n",
       "            </tr>\n",
       "            <tr>\n",
       "                        <th id=\"T_7278d5f8_3184_11ea_9e40_a434d91236f2level0_row6\" class=\"row_heading level0 row6\" >35-39</th>\n",
       "                        <td id=\"T_7278d5f8_3184_11ea_9e40_a434d91236f2row6_col0\" class=\"data row6 col0\" >31</td>\n",
       "                        <td id=\"T_7278d5f8_3184_11ea_9e40_a434d91236f2row6_col1\" class=\"data row6 col1\" >5.38%</td>\n",
       "            </tr>\n",
       "            <tr>\n",
       "                        <th id=\"T_7278d5f8_3184_11ea_9e40_a434d91236f2level0_row7\" class=\"row_heading level0 row7\" >40+</th>\n",
       "                        <td id=\"T_7278d5f8_3184_11ea_9e40_a434d91236f2row7_col0\" class=\"data row7 col0\" >12</td>\n",
       "                        <td id=\"T_7278d5f8_3184_11ea_9e40_a434d91236f2row7_col1\" class=\"data row7 col1\" >2.08%</td>\n",
       "            </tr>\n",
       "    </tbody></table>"
      ],
      "text/plain": [
       "<pandas.io.formats.style.Styler at 0x18ed052b9c8>"
      ]
     },
     "execution_count": 132,
     "metadata": {},
     "output_type": "execute_result"
    }
   ],
   "source": [
    "#merging number and percentages of age groups and renaming columns\n",
    "age_demographics = pd.DataFrame({\"Total Count\": unique_group,\n",
    "                                \"Percentage of Players\": unique_percent})\n",
    "#rename columns\n",
    "age_demographics = age_demographics.rename(columns = {\"SN_x\": \"Total Count\", \"SN_y\": \"Percentage of Players\"})\n",
    "#format percent\n",
    "#age_demographics[\"Percentage of Players\"] = age_demographics[\"Percentage of Players\"].astype(float).map(\"{:,.2f}%\".format)\n",
    "age_demographics.style.format({\"Percentage of Players\": \"{:,.2f}%\"})"
   ]
  },
  {
   "cell_type": "code",
   "execution_count": 120,
   "metadata": {},
   "outputs": [],
   "source": [
    "#count purchases per age\n",
    "age_purchase_count = age_group[\"Price\"].count()\n",
    "#average of purchase price per purchase per age group\n",
    "age_average_price = age_group[\"Price\"].mean()\n",
    "#sum or purchases per age group\n",
    "age_total_purchase = age_group[\"Price\"].sum()\n",
    "#average purchase price per unique SN per age group\n",
    "age_unique_average = age_total_purchase/ unique_group"
   ]
  },
  {
   "cell_type": "code",
   "execution_count": 141,
   "metadata": {},
   "outputs": [
    {
     "data": {
      "text/html": [
       "<style  type=\"text/css\" >\n",
       "</style><table id=\"T_226f971c_3185_11ea_81cb_a434d91236f2\" ><thead>    <tr>        <th class=\"blank level0\" ></th>        <th class=\"col_heading level0 col0\" >Purchase Count</th>        <th class=\"col_heading level0 col1\" >Average Purchase Price</th>        <th class=\"col_heading level0 col2\" >Total Purchase Value</th>        <th class=\"col_heading level0 col3\" >Avg Purchase Total per Person</th>    </tr>    <tr>        <th class=\"index_name level0\" >Age Group</th>        <th class=\"blank\" ></th>        <th class=\"blank\" ></th>        <th class=\"blank\" ></th>        <th class=\"blank\" ></th>    </tr></thead><tbody>\n",
       "                <tr>\n",
       "                        <th id=\"T_226f971c_3185_11ea_81cb_a434d91236f2level0_row0\" class=\"row_heading level0 row0\" ><10</th>\n",
       "                        <td id=\"T_226f971c_3185_11ea_81cb_a434d91236f2row0_col0\" class=\"data row0 col0\" >23</td>\n",
       "                        <td id=\"T_226f971c_3185_11ea_81cb_a434d91236f2row0_col1\" class=\"data row0 col1\" >$3.35</td>\n",
       "                        <td id=\"T_226f971c_3185_11ea_81cb_a434d91236f2row0_col2\" class=\"data row0 col2\" >$77.13</td>\n",
       "                        <td id=\"T_226f971c_3185_11ea_81cb_a434d91236f2row0_col3\" class=\"data row0 col3\" >$4.54</td>\n",
       "            </tr>\n",
       "            <tr>\n",
       "                        <th id=\"T_226f971c_3185_11ea_81cb_a434d91236f2level0_row1\" class=\"row_heading level0 row1\" >10-14</th>\n",
       "                        <td id=\"T_226f971c_3185_11ea_81cb_a434d91236f2row1_col0\" class=\"data row1 col0\" >28</td>\n",
       "                        <td id=\"T_226f971c_3185_11ea_81cb_a434d91236f2row1_col1\" class=\"data row1 col1\" >$2.96</td>\n",
       "                        <td id=\"T_226f971c_3185_11ea_81cb_a434d91236f2row1_col2\" class=\"data row1 col2\" >$82.78</td>\n",
       "                        <td id=\"T_226f971c_3185_11ea_81cb_a434d91236f2row1_col3\" class=\"data row1 col3\" >$3.76</td>\n",
       "            </tr>\n",
       "            <tr>\n",
       "                        <th id=\"T_226f971c_3185_11ea_81cb_a434d91236f2level0_row2\" class=\"row_heading level0 row2\" >15-19</th>\n",
       "                        <td id=\"T_226f971c_3185_11ea_81cb_a434d91236f2row2_col0\" class=\"data row2 col0\" >136</td>\n",
       "                        <td id=\"T_226f971c_3185_11ea_81cb_a434d91236f2row2_col1\" class=\"data row2 col1\" >$3.04</td>\n",
       "                        <td id=\"T_226f971c_3185_11ea_81cb_a434d91236f2row2_col2\" class=\"data row2 col2\" >$412.89</td>\n",
       "                        <td id=\"T_226f971c_3185_11ea_81cb_a434d91236f2row2_col3\" class=\"data row2 col3\" >$3.86</td>\n",
       "            </tr>\n",
       "            <tr>\n",
       "                        <th id=\"T_226f971c_3185_11ea_81cb_a434d91236f2level0_row3\" class=\"row_heading level0 row3\" >20-24</th>\n",
       "                        <td id=\"T_226f971c_3185_11ea_81cb_a434d91236f2row3_col0\" class=\"data row3 col0\" >365</td>\n",
       "                        <td id=\"T_226f971c_3185_11ea_81cb_a434d91236f2row3_col1\" class=\"data row3 col1\" >$3.05</td>\n",
       "                        <td id=\"T_226f971c_3185_11ea_81cb_a434d91236f2row3_col2\" class=\"data row3 col2\" >$1,114.06</td>\n",
       "                        <td id=\"T_226f971c_3185_11ea_81cb_a434d91236f2row3_col3\" class=\"data row3 col3\" >$4.32</td>\n",
       "            </tr>\n",
       "            <tr>\n",
       "                        <th id=\"T_226f971c_3185_11ea_81cb_a434d91236f2level0_row4\" class=\"row_heading level0 row4\" >25-29</th>\n",
       "                        <td id=\"T_226f971c_3185_11ea_81cb_a434d91236f2row4_col0\" class=\"data row4 col0\" >101</td>\n",
       "                        <td id=\"T_226f971c_3185_11ea_81cb_a434d91236f2row4_col1\" class=\"data row4 col1\" >$2.90</td>\n",
       "                        <td id=\"T_226f971c_3185_11ea_81cb_a434d91236f2row4_col2\" class=\"data row4 col2\" >$293.00</td>\n",
       "                        <td id=\"T_226f971c_3185_11ea_81cb_a434d91236f2row4_col3\" class=\"data row4 col3\" >$3.81</td>\n",
       "            </tr>\n",
       "            <tr>\n",
       "                        <th id=\"T_226f971c_3185_11ea_81cb_a434d91236f2level0_row5\" class=\"row_heading level0 row5\" >30-34</th>\n",
       "                        <td id=\"T_226f971c_3185_11ea_81cb_a434d91236f2row5_col0\" class=\"data row5 col0\" >73</td>\n",
       "                        <td id=\"T_226f971c_3185_11ea_81cb_a434d91236f2row5_col1\" class=\"data row5 col1\" >$2.93</td>\n",
       "                        <td id=\"T_226f971c_3185_11ea_81cb_a434d91236f2row5_col2\" class=\"data row5 col2\" >$214.00</td>\n",
       "                        <td id=\"T_226f971c_3185_11ea_81cb_a434d91236f2row5_col3\" class=\"data row5 col3\" >$4.12</td>\n",
       "            </tr>\n",
       "            <tr>\n",
       "                        <th id=\"T_226f971c_3185_11ea_81cb_a434d91236f2level0_row6\" class=\"row_heading level0 row6\" >35-39</th>\n",
       "                        <td id=\"T_226f971c_3185_11ea_81cb_a434d91236f2row6_col0\" class=\"data row6 col0\" >41</td>\n",
       "                        <td id=\"T_226f971c_3185_11ea_81cb_a434d91236f2row6_col1\" class=\"data row6 col1\" >$3.60</td>\n",
       "                        <td id=\"T_226f971c_3185_11ea_81cb_a434d91236f2row6_col2\" class=\"data row6 col2\" >$147.67</td>\n",
       "                        <td id=\"T_226f971c_3185_11ea_81cb_a434d91236f2row6_col3\" class=\"data row6 col3\" >$4.76</td>\n",
       "            </tr>\n",
       "            <tr>\n",
       "                        <th id=\"T_226f971c_3185_11ea_81cb_a434d91236f2level0_row7\" class=\"row_heading level0 row7\" >40+</th>\n",
       "                        <td id=\"T_226f971c_3185_11ea_81cb_a434d91236f2row7_col0\" class=\"data row7 col0\" >13</td>\n",
       "                        <td id=\"T_226f971c_3185_11ea_81cb_a434d91236f2row7_col1\" class=\"data row7 col1\" >$2.94</td>\n",
       "                        <td id=\"T_226f971c_3185_11ea_81cb_a434d91236f2row7_col2\" class=\"data row7 col2\" >$38.24</td>\n",
       "                        <td id=\"T_226f971c_3185_11ea_81cb_a434d91236f2row7_col3\" class=\"data row7 col3\" >$3.19</td>\n",
       "            </tr>\n",
       "    </tbody></table>"
      ],
      "text/plain": [
       "<pandas.io.formats.style.Styler at 0x18ed04f3208>"
      ]
     },
     "execution_count": 141,
     "metadata": {},
     "output_type": "execute_result"
    }
   ],
   "source": [
    "#df containing purchase analysis by age data\n",
    "purchase_analysis_age = pd.DataFrame({\"Purchase Count\": age_purchase_count,\n",
    "                          \"Average Purchase Price\": age_average_price,\n",
    "                          \"Total Purchase Value\": age_total_purchase,\n",
    "                          \"Avg Purchase Total per Person\": age_unique_average})\n",
    "#format prices\n",
    "purchase_analysis_age.style.format({\"Average Purchase Price\" : \"${:,.2f}\", \"Total Purchase Value\" : \"${:,.2f}\",\n",
    "                                    \"Avg Purchase Total per Person\": \"${:,.2f}\"}) "
   ]
  },
  {
   "cell_type": "code",
   "execution_count": 150,
   "metadata": {},
   "outputs": [
    {
     "data": {
      "text/html": [
       "<div>\n",
       "<style scoped>\n",
       "    .dataframe tbody tr th:only-of-type {\n",
       "        vertical-align: middle;\n",
       "    }\n",
       "\n",
       "    .dataframe tbody tr th {\n",
       "        vertical-align: top;\n",
       "    }\n",
       "\n",
       "    .dataframe thead th {\n",
       "        text-align: right;\n",
       "    }\n",
       "</style>\n",
       "<table border=\"1\" class=\"dataframe\">\n",
       "  <thead>\n",
       "    <tr style=\"text-align: right;\">\n",
       "      <th></th>\n",
       "      <th>Purchase ID</th>\n",
       "      <th>SN</th>\n",
       "      <th>Age</th>\n",
       "      <th>Gender</th>\n",
       "      <th>Item ID</th>\n",
       "      <th>Item Name</th>\n",
       "      <th>Price</th>\n",
       "      <th>Age Group</th>\n",
       "    </tr>\n",
       "  </thead>\n",
       "  <tbody>\n",
       "    <tr>\n",
       "      <td>0</td>\n",
       "      <td>0</td>\n",
       "      <td>Lisim78</td>\n",
       "      <td>20</td>\n",
       "      <td>Male</td>\n",
       "      <td>108</td>\n",
       "      <td>Extraction, Quickblade Of Trembling Hands</td>\n",
       "      <td>3.53</td>\n",
       "      <td>20-24</td>\n",
       "    </tr>\n",
       "    <tr>\n",
       "      <td>1</td>\n",
       "      <td>1</td>\n",
       "      <td>Lisovynya38</td>\n",
       "      <td>40</td>\n",
       "      <td>Male</td>\n",
       "      <td>143</td>\n",
       "      <td>Frenzied Scimitar</td>\n",
       "      <td>1.56</td>\n",
       "      <td>40+</td>\n",
       "    </tr>\n",
       "    <tr>\n",
       "      <td>2</td>\n",
       "      <td>2</td>\n",
       "      <td>Ithergue48</td>\n",
       "      <td>24</td>\n",
       "      <td>Male</td>\n",
       "      <td>92</td>\n",
       "      <td>Final Critic</td>\n",
       "      <td>4.88</td>\n",
       "      <td>20-24</td>\n",
       "    </tr>\n",
       "    <tr>\n",
       "      <td>3</td>\n",
       "      <td>3</td>\n",
       "      <td>Chamassasya86</td>\n",
       "      <td>24</td>\n",
       "      <td>Male</td>\n",
       "      <td>100</td>\n",
       "      <td>Blindscythe</td>\n",
       "      <td>3.27</td>\n",
       "      <td>20-24</td>\n",
       "    </tr>\n",
       "    <tr>\n",
       "      <td>4</td>\n",
       "      <td>4</td>\n",
       "      <td>Iskosia90</td>\n",
       "      <td>23</td>\n",
       "      <td>Male</td>\n",
       "      <td>131</td>\n",
       "      <td>Fury</td>\n",
       "      <td>1.44</td>\n",
       "      <td>20-24</td>\n",
       "    </tr>\n",
       "  </tbody>\n",
       "</table>\n",
       "</div>"
      ],
      "text/plain": [
       "   Purchase ID             SN  Age Gender  Item ID  \\\n",
       "0            0        Lisim78   20   Male      108   \n",
       "1            1    Lisovynya38   40   Male      143   \n",
       "2            2     Ithergue48   24   Male       92   \n",
       "3            3  Chamassasya86   24   Male      100   \n",
       "4            4      Iskosia90   23   Male      131   \n",
       "\n",
       "                                   Item Name  Price Age Group  \n",
       "0  Extraction, Quickblade Of Trembling Hands   3.53     20-24  \n",
       "1                          Frenzied Scimitar   1.56       40+  \n",
       "2                               Final Critic   4.88     20-24  \n",
       "3                                Blindscythe   3.27     20-24  \n",
       "4                                       Fury   1.44     20-24  "
      ]
     },
     "execution_count": 150,
     "metadata": {},
     "output_type": "execute_result"
    }
   ],
   "source": [
    "purchase_data.head()"
   ]
  },
  {
   "cell_type": "code",
   "execution_count": 152,
   "metadata": {},
   "outputs": [
    {
     "data": {
      "text/plain": [
       "Lisosia93          5\n",
       "Idastidru52        4\n",
       "Iral74             4\n",
       "Tyidaim51          3\n",
       "Saedaiphos46       3\n",
       "                  ..\n",
       "Lassjaskan73       1\n",
       "Lisosia66          1\n",
       "Yadam35            1\n",
       "Aerithriaphos46    1\n",
       "Lisast98           1\n",
       "Name: SN, Length: 576, dtype: int64"
      ]
     },
     "execution_count": 152,
     "metadata": {},
     "output_type": "execute_result"
    }
   ],
   "source": [
    "test = purchase_data[\"SN\"].value_counts()\n",
    "test"
   ]
  },
  {
   "cell_type": "code",
   "execution_count": 169,
   "metadata": {},
   "outputs": [
    {
     "data": {
      "text/plain": [
       "3.050987179487176"
      ]
     },
     "execution_count": 169,
     "metadata": {},
     "output_type": "execute_result"
    }
   ],
   "source": [
    "test2 = purchase_data[\"Price\"].mean()\n",
    "test2"
   ]
  },
  {
   "cell_type": "code",
   "execution_count": 164,
   "metadata": {},
   "outputs": [
    {
     "data": {
      "text/html": [
       "<div>\n",
       "<style scoped>\n",
       "    .dataframe tbody tr th:only-of-type {\n",
       "        vertical-align: middle;\n",
       "    }\n",
       "\n",
       "    .dataframe tbody tr th {\n",
       "        vertical-align: top;\n",
       "    }\n",
       "\n",
       "    .dataframe thead th {\n",
       "        text-align: right;\n",
       "    }\n",
       "</style>\n",
       "<table border=\"1\" class=\"dataframe\">\n",
       "  <thead>\n",
       "    <tr style=\"text-align: right;\">\n",
       "      <th></th>\n",
       "      <th>Purchase Count</th>\n",
       "      <th>Price</th>\n",
       "    </tr>\n",
       "  </thead>\n",
       "  <tbody>\n",
       "    <tr>\n",
       "      <td>Lisosia93</td>\n",
       "      <td>5</td>\n",
       "      <td>780</td>\n",
       "    </tr>\n",
       "    <tr>\n",
       "      <td>Idastidru52</td>\n",
       "      <td>4</td>\n",
       "      <td>780</td>\n",
       "    </tr>\n",
       "    <tr>\n",
       "      <td>Iral74</td>\n",
       "      <td>4</td>\n",
       "      <td>780</td>\n",
       "    </tr>\n",
       "    <tr>\n",
       "      <td>Tyidaim51</td>\n",
       "      <td>3</td>\n",
       "      <td>780</td>\n",
       "    </tr>\n",
       "    <tr>\n",
       "      <td>Saedaiphos46</td>\n",
       "      <td>3</td>\n",
       "      <td>780</td>\n",
       "    </tr>\n",
       "    <tr>\n",
       "      <td>...</td>\n",
       "      <td>...</td>\n",
       "      <td>...</td>\n",
       "    </tr>\n",
       "    <tr>\n",
       "      <td>Lassjaskan73</td>\n",
       "      <td>1</td>\n",
       "      <td>780</td>\n",
       "    </tr>\n",
       "    <tr>\n",
       "      <td>Lisosia66</td>\n",
       "      <td>1</td>\n",
       "      <td>780</td>\n",
       "    </tr>\n",
       "    <tr>\n",
       "      <td>Yadam35</td>\n",
       "      <td>1</td>\n",
       "      <td>780</td>\n",
       "    </tr>\n",
       "    <tr>\n",
       "      <td>Aerithriaphos46</td>\n",
       "      <td>1</td>\n",
       "      <td>780</td>\n",
       "    </tr>\n",
       "    <tr>\n",
       "      <td>Lisast98</td>\n",
       "      <td>1</td>\n",
       "      <td>780</td>\n",
       "    </tr>\n",
       "  </tbody>\n",
       "</table>\n",
       "<p>576 rows × 2 columns</p>\n",
       "</div>"
      ],
      "text/plain": [
       "                 Purchase Count  Price\n",
       "Lisosia93                     5    780\n",
       "Idastidru52                   4    780\n",
       "Iral74                        4    780\n",
       "Tyidaim51                     3    780\n",
       "Saedaiphos46                  3    780\n",
       "...                         ...    ...\n",
       "Lassjaskan73                  1    780\n",
       "Lisosia66                     1    780\n",
       "Yadam35                       1    780\n",
       "Aerithriaphos46               1    780\n",
       "Lisast98                      1    780\n",
       "\n",
       "[576 rows x 2 columns]"
      ]
     },
     "execution_count": 164,
     "metadata": {},
     "output_type": "execute_result"
    }
   ],
   "source": [
    "testing = pd.DataFrame({\"Purchase Count\": test, \"Price\": purchase_data[\"Price\"].count()})\n",
    "testing"
   ]
  },
  {
   "cell_type": "code",
   "execution_count": null,
   "metadata": {},
   "outputs": [],
   "source": []
  }
 ],
 "metadata": {
  "anaconda-cloud": {},
  "kernel_info": {
   "name": "python3"
  },
  "kernelspec": {
   "display_name": "Python 3",
   "language": "python",
   "name": "python3"
  },
  "language_info": {
   "codemirror_mode": {
    "name": "ipython",
    "version": 3
   },
   "file_extension": ".py",
   "mimetype": "text/x-python",
   "name": "python",
   "nbconvert_exporter": "python",
   "pygments_lexer": "ipython3",
   "version": "3.7.4"
  },
  "latex_envs": {
   "LaTeX_envs_menu_present": true,
   "autoclose": false,
   "autocomplete": true,
   "bibliofile": "biblio.bib",
   "cite_by": "apalike",
   "current_citInitial": 1,
   "eqLabelWithNumbers": true,
   "eqNumInitial": 1,
   "hotkeys": {
    "equation": "Ctrl-E",
    "itemize": "Ctrl-I"
   },
   "labels_anchors": false,
   "latex_user_defs": false,
   "report_style_numbering": false,
   "user_envs_cfg": false
  },
  "nteract": {
   "version": "0.2.0"
  }
 },
 "nbformat": 4,
 "nbformat_minor": 2
}
